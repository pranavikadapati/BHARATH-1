{
 "cells": [
  {
   "cell_type": "code",
   "execution_count": 1,
   "metadata": {
    "execution": {
     "iopub.execute_input": "2024-03-08T06:19:49.916272Z",
     "iopub.status.busy": "2024-03-08T06:19:49.914918Z",
     "iopub.status.idle": "2024-03-08T06:19:49.918624Z",
     "shell.execute_reply": "2024-03-08T06:19:49.919279Z",
     "shell.execute_reply.started": "2024-03-06T15:02:14.141337Z"
    },
    "papermill": {
     "duration": 0.023612,
     "end_time": "2024-03-08T06:19:49.919522",
     "exception": false,
     "start_time": "2024-03-08T06:19:49.895910",
     "status": "completed"
    },
    "tags": []
   },
   "outputs": [],
   "source": [
    "# Importing all the necessary libraries for this project\n",
    "import pandas as pd"
   ]
  },
  {
   "cell_type": "code",
   "execution_count": 2,
   "metadata": {
    "_cell_guid": "b1076dfc-b9ad-4769-8c92-a6c4dae69d19",
    "_uuid": "8f2839f25d086af736a60e9eeb907d3b93b6e0e5",
    "execution": {
     "iopub.execute_input": "2024-03-08T06:19:49.954167Z",
     "iopub.status.busy": "2024-03-08T06:19:49.952951Z",
     "iopub.status.idle": "2024-03-08T06:19:50.019129Z",
     "shell.execute_reply": "2024-03-08T06:19:50.019848Z",
     "shell.execute_reply.started": "2024-03-06T15:02:14.173531Z"
    },
    "papermill": {
     "duration": 0.086191,
     "end_time": "2024-03-08T06:19:50.020039",
     "exception": false,
     "start_time": "2024-03-08T06:19:49.933848",
     "status": "completed"
    },
    "tags": []
   },
   "outputs": [
    {
     "name": "stdout",
     "output_type": "stream",
     "text": [
      "/kaggle/input/sms-spam-detection/smsspamcollection/readme\n",
      "/kaggle/input/sms-spam-detection/smsspamcollection/SMSSpamCollection\n"
     ]
    },
    {
     "data": {
      "text/html": [
       "<div>\n",
       "<style scoped>\n",
       "    .dataframe tbody tr th:only-of-type {\n",
       "        vertical-align: middle;\n",
       "    }\n",
       "\n",
       "    .dataframe tbody tr th {\n",
       "        vertical-align: top;\n",
       "    }\n",
       "\n",
       "    .dataframe thead th {\n",
       "        text-align: right;\n",
       "    }\n",
       "</style>\n",
       "<table border=\"1\" class=\"dataframe\">\n",
       "  <thead>\n",
       "    <tr style=\"text-align: right;\">\n",
       "      <th></th>\n",
       "      <th>label</th>\n",
       "      <th>sms_message</th>\n",
       "    </tr>\n",
       "  </thead>\n",
       "  <tbody>\n",
       "    <tr>\n",
       "      <th>0</th>\n",
       "      <td>ham</td>\n",
       "      <td>Go until jurong point, crazy.. Available only ...</td>\n",
       "    </tr>\n",
       "    <tr>\n",
       "      <th>1</th>\n",
       "      <td>ham</td>\n",
       "      <td>Ok lar... Joking wif u oni...</td>\n",
       "    </tr>\n",
       "    <tr>\n",
       "      <th>2</th>\n",
       "      <td>spam</td>\n",
       "      <td>Free entry in 2 a wkly comp to win FA Cup fina...</td>\n",
       "    </tr>\n",
       "    <tr>\n",
       "      <th>3</th>\n",
       "      <td>ham</td>\n",
       "      <td>U dun say so early hor... U c already then say...</td>\n",
       "    </tr>\n",
       "    <tr>\n",
       "      <th>4</th>\n",
       "      <td>ham</td>\n",
       "      <td>Nah I don't think he goes to usf, he lives aro...</td>\n",
       "    </tr>\n",
       "  </tbody>\n",
       "</table>\n",
       "</div>"
      ],
      "text/plain": [
       "  label                                        sms_message\n",
       "0   ham  Go until jurong point, crazy.. Available only ...\n",
       "1   ham                      Ok lar... Joking wif u oni...\n",
       "2  spam  Free entry in 2 a wkly comp to win FA Cup fina...\n",
       "3   ham  U dun say so early hor... U c already then say...\n",
       "4   ham  Nah I don't think he goes to usf, he lives aro..."
      ]
     },
     "execution_count": 2,
     "metadata": {},
     "output_type": "execute_result"
    }
   ],
   "source": [
    "# Loading the Dataset\n",
    "\n",
    "import os\n",
    "for dirname, _, filenames in os.walk('/kaggle/input'):\n",
    "    for filename in filenames:\n",
    "        print(os.path.join(dirname, filename))\n",
    "\n",
    "df = pd.read_table('../input/sms-spam-detection/smsspamcollection/SMSSpamCollection',names=['label','sms_message'])\n",
    "\n",
    "# Printing out first five columns\n",
    "df.head()"
   ]
  },
  {
   "cell_type": "code",
   "execution_count": 3,
   "metadata": {
    "_cell_guid": "79c7e3d0-c299-4dcb-8224-4455121ee9b0",
    "_uuid": "d629ff2d2480ee46fbb7e2d37f6b5fab8052498a",
    "execution": {
     "iopub.execute_input": "2024-03-08T06:19:50.052092Z",
     "iopub.status.busy": "2024-03-08T06:19:50.050731Z",
     "iopub.status.idle": "2024-03-08T06:19:50.060643Z",
     "shell.execute_reply": "2024-03-08T06:19:50.061273Z",
     "shell.execute_reply.started": "2024-03-06T15:02:14.235965Z"
    },
    "papermill": {
     "duration": 0.027544,
     "end_time": "2024-03-08T06:19:50.061466",
     "exception": false,
     "start_time": "2024-03-08T06:19:50.033922",
     "status": "completed"
    },
    "tags": []
   },
   "outputs": [],
   "source": [
    "df['label'] = df.label.map({'ham':0, 'spam':1})"
   ]
  },
  {
   "cell_type": "code",
   "execution_count": 4,
   "metadata": {
    "execution": {
     "iopub.execute_input": "2024-03-08T06:19:50.095442Z",
     "iopub.status.busy": "2024-03-08T06:19:50.094170Z",
     "iopub.status.idle": "2024-03-08T06:19:50.108436Z",
     "shell.execute_reply": "2024-03-08T06:19:50.107531Z",
     "shell.execute_reply.started": "2024-03-06T15:02:14.245396Z"
    },
    "papermill": {
     "duration": 0.032205,
     "end_time": "2024-03-08T06:19:50.108612",
     "exception": false,
     "start_time": "2024-03-08T06:19:50.076407",
     "status": "completed"
    },
    "tags": []
   },
   "outputs": [
    {
     "data": {
      "text/html": [
       "<div>\n",
       "<style scoped>\n",
       "    .dataframe tbody tr th:only-of-type {\n",
       "        vertical-align: middle;\n",
       "    }\n",
       "\n",
       "    .dataframe tbody tr th {\n",
       "        vertical-align: top;\n",
       "    }\n",
       "\n",
       "    .dataframe thead th {\n",
       "        text-align: right;\n",
       "    }\n",
       "</style>\n",
       "<table border=\"1\" class=\"dataframe\">\n",
       "  <thead>\n",
       "    <tr style=\"text-align: right;\">\n",
       "      <th></th>\n",
       "      <th>label</th>\n",
       "      <th>sms_message</th>\n",
       "    </tr>\n",
       "  </thead>\n",
       "  <tbody>\n",
       "    <tr>\n",
       "      <th>0</th>\n",
       "      <td>0</td>\n",
       "      <td>Go until jurong point, crazy.. Available only ...</td>\n",
       "    </tr>\n",
       "    <tr>\n",
       "      <th>1</th>\n",
       "      <td>0</td>\n",
       "      <td>Ok lar... Joking wif u oni...</td>\n",
       "    </tr>\n",
       "    <tr>\n",
       "      <th>2</th>\n",
       "      <td>1</td>\n",
       "      <td>Free entry in 2 a wkly comp to win FA Cup fina...</td>\n",
       "    </tr>\n",
       "    <tr>\n",
       "      <th>3</th>\n",
       "      <td>0</td>\n",
       "      <td>U dun say so early hor... U c already then say...</td>\n",
       "    </tr>\n",
       "    <tr>\n",
       "      <th>4</th>\n",
       "      <td>0</td>\n",
       "      <td>Nah I don't think he goes to usf, he lives aro...</td>\n",
       "    </tr>\n",
       "  </tbody>\n",
       "</table>\n",
       "</div>"
      ],
      "text/plain": [
       "   label                                        sms_message\n",
       "0      0  Go until jurong point, crazy.. Available only ...\n",
       "1      0                      Ok lar... Joking wif u oni...\n",
       "2      1  Free entry in 2 a wkly comp to win FA Cup fina...\n",
       "3      0  U dun say so early hor... U c already then say...\n",
       "4      0  Nah I don't think he goes to usf, he lives aro..."
      ]
     },
     "execution_count": 4,
     "metadata": {},
     "output_type": "execute_result"
    }
   ],
   "source": [
    "df.head()"
   ]
  },
  {
   "cell_type": "code",
   "execution_count": 5,
   "metadata": {
    "execution": {
     "iopub.execute_input": "2024-03-08T06:19:50.144876Z",
     "iopub.status.busy": "2024-03-08T06:19:50.143935Z",
     "iopub.status.idle": "2024-03-08T06:19:50.149531Z",
     "shell.execute_reply": "2024-03-08T06:19:50.148707Z",
     "shell.execute_reply.started": "2024-03-06T15:02:14.257257Z"
    },
    "papermill": {
     "duration": 0.026059,
     "end_time": "2024-03-08T06:19:50.149689",
     "exception": false,
     "start_time": "2024-03-08T06:19:50.123630",
     "status": "completed"
    },
    "tags": []
   },
   "outputs": [
    {
     "data": {
      "text/plain": [
       "(5572, 2)"
      ]
     },
     "execution_count": 5,
     "metadata": {},
     "output_type": "execute_result"
    }
   ],
   "source": [
    "# Size of the dataset\n",
    "df.shape"
   ]
  },
  {
   "cell_type": "code",
   "execution_count": 6,
   "metadata": {
    "execution": {
     "iopub.execute_input": "2024-03-08T06:19:50.188996Z",
     "iopub.status.busy": "2024-03-08T06:19:50.188108Z",
     "iopub.status.idle": "2024-03-08T06:19:51.468982Z",
     "shell.execute_reply": "2024-03-08T06:19:51.467939Z",
     "shell.execute_reply.started": "2024-03-06T15:02:14.266686Z"
    },
    "papermill": {
     "duration": 1.305169,
     "end_time": "2024-03-08T06:19:51.469171",
     "exception": false,
     "start_time": "2024-03-08T06:19:50.164002",
     "status": "completed"
    },
    "tags": []
   },
   "outputs": [
    {
     "name": "stdout",
     "output_type": "stream",
     "text": [
      "Number of rows in the total set: 5572\n",
      "Number of rows in the training set: 4179\n",
      "Number of rows in the test set: 1393\n"
     ]
    }
   ],
   "source": [
    "from sklearn.model_selection import train_test_split\n",
    "\n",
    "X_train, X_test, y_train, y_test = train_test_split(df['sms_message'], \n",
    "                                                    df['label'], \n",
    "                                                    random_state=1)\n",
    "\n",
    "print('Number of rows in the total set: {}'.format(df.shape[0]))\n",
    "print('Number of rows in the training set: {}'.format(X_train.shape[0]))\n",
    "print('Number of rows in the test set: {}'.format(X_test.shape[0]))"
   ]
  },
  {
   "cell_type": "code",
   "execution_count": 7,
   "metadata": {
    "execution": {
     "iopub.execute_input": "2024-03-08T06:19:51.506807Z",
     "iopub.status.busy": "2024-03-08T06:19:51.505879Z",
     "iopub.status.idle": "2024-03-08T06:19:51.719192Z",
     "shell.execute_reply": "2024-03-08T06:19:51.720347Z",
     "shell.execute_reply.started": "2024-03-06T15:02:15.230770Z"
    },
    "papermill": {
     "duration": 0.235962,
     "end_time": "2024-03-08T06:19:51.720588",
     "exception": false,
     "start_time": "2024-03-08T06:19:51.484626",
     "status": "completed"
    },
    "tags": []
   },
   "outputs": [],
   "source": [
    "from sklearn.feature_extraction.text import CountVectorizer\n",
    "# Instantiate the CountVectorizer method\n",
    "count_vector = CountVectorizer()\n",
    "\n",
    "# Fit the training data and then return the matrix\n",
    "training_data = count_vector.fit_transform(X_train)\n",
    "\n",
    "# Transform testing data and return the matrix. Note we are not fitting the testing data into the CountVectorizer()\n",
    "testing_data = count_vector.transform(X_test)"
   ]
  },
  {
   "cell_type": "code",
   "execution_count": 8,
   "metadata": {
    "execution": {
     "iopub.execute_input": "2024-03-08T06:19:51.757537Z",
     "iopub.status.busy": "2024-03-08T06:19:51.755997Z",
     "iopub.status.idle": "2024-03-08T06:19:51.769623Z",
     "shell.execute_reply": "2024-03-08T06:19:51.770347Z",
     "shell.execute_reply.started": "2024-03-06T15:02:15.376208Z"
    },
    "papermill": {
     "duration": 0.035434,
     "end_time": "2024-03-08T06:19:51.770533",
     "exception": false,
     "start_time": "2024-03-08T06:19:51.735099",
     "status": "completed"
    },
    "tags": []
   },
   "outputs": [
    {
     "data": {
      "text/plain": [
       "MultinomialNB()"
      ]
     },
     "execution_count": 8,
     "metadata": {},
     "output_type": "execute_result"
    }
   ],
   "source": [
    "from sklearn.naive_bayes import MultinomialNB\n",
    "naive_bayes = MultinomialNB()\n",
    "naive_bayes.fit(training_data, y_train)"
   ]
  },
  {
   "cell_type": "code",
   "execution_count": 9,
   "metadata": {
    "execution": {
     "iopub.execute_input": "2024-03-08T06:19:51.811571Z",
     "iopub.status.busy": "2024-03-08T06:19:51.810272Z",
     "iopub.status.idle": "2024-03-08T06:19:51.816828Z",
     "shell.execute_reply": "2024-03-08T06:19:51.817580Z",
     "shell.execute_reply.started": "2024-03-06T15:02:15.392404Z"
    },
    "papermill": {
     "duration": 0.030981,
     "end_time": "2024-03-08T06:19:51.817816",
     "exception": false,
     "start_time": "2024-03-08T06:19:51.786835",
     "status": "completed"
    },
    "tags": []
   },
   "outputs": [],
   "source": [
    "predictions = naive_bayes.predict(testing_data)"
   ]
  },
  {
   "cell_type": "code",
   "execution_count": 10,
   "metadata": {
    "execution": {
     "iopub.execute_input": "2024-03-08T06:19:51.857486Z",
     "iopub.status.busy": "2024-03-08T06:19:51.856577Z",
     "iopub.status.idle": "2024-03-08T06:19:51.882422Z",
     "shell.execute_reply": "2024-03-08T06:19:51.881531Z",
     "shell.execute_reply.started": "2024-03-06T15:02:15.400144Z"
    },
    "papermill": {
     "duration": 0.045728,
     "end_time": "2024-03-08T06:19:51.882622",
     "exception": false,
     "start_time": "2024-03-08T06:19:51.836894",
     "status": "completed"
    },
    "tags": []
   },
   "outputs": [
    {
     "name": "stdout",
     "output_type": "stream",
     "text": [
      "Accuracy score:  0.9885139985642498\n",
      "Precision score:  0.9720670391061452\n",
      "Recall score:  0.9405405405405406\n",
      "F1 score:  0.9560439560439562\n"
     ]
    }
   ],
   "source": [
    "from sklearn.metrics import accuracy_score, precision_score, recall_score, f1_score\n",
    "print('Accuracy score: ', format(accuracy_score(y_test, predictions)))\n",
    "print('Precision score: ', format(precision_score(y_test, predictions)))\n",
    "print('Recall score: ', format(recall_score(y_test, predictions)))\n",
    "print('F1 score: ', format(f1_score(y_test, predictions)))"
   ]
  }
 ],
 "metadata": {
  "kaggle": {
   "accelerator": "none",
   "dataSources": [
    {
     "datasetId": 1030349,
     "sourceId": 1735987,
     "sourceType": "datasetVersion"
    }
   ],
   "dockerImageVersionId": 30042,
   "isGpuEnabled": false,
   "isInternetEnabled": false,
   "language": "python",
   "sourceType": "notebook"
  },
  "kernelspec": {
   "display_name": "Python 3",
   "language": "python",
   "name": "python3"
  },
  "language_info": {
   "codemirror_mode": {
    "name": "ipython",
    "version": 3
   },
   "file_extension": ".py",
   "mimetype": "text/x-python",
   "name": "python",
   "nbconvert_exporter": "python",
   "pygments_lexer": "ipython3",
   "version": "3.7.6"
  },
  "papermill": {
   "duration": 8.38563,
   "end_time": "2024-03-08T06:19:52.007816",
   "environment_variables": {},
   "exception": null,
   "input_path": "__notebook__.ipynb",
   "output_path": "__notebook__.ipynb",
   "parameters": {},
   "start_time": "2024-03-08T06:19:43.622186",
   "version": "2.1.0"
  }
 },
 "nbformat": 4,
 "nbformat_minor": 4
}
